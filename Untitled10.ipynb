{
  "nbformat": 4,
  "nbformat_minor": 0,
  "metadata": {
    "colab": {
      "provenance": [],
      "authorship_tag": "ABX9TyPRW0ViVJu8I6QIQtfUuCnW",
      "include_colab_link": true
    },
    "kernelspec": {
      "name": "python3",
      "display_name": "Python 3"
    },
    "language_info": {
      "name": "python"
    }
  },
  "cells": [
    {
      "cell_type": "markdown",
      "metadata": {
        "id": "view-in-github",
        "colab_type": "text"
      },
      "source": [
        "<a href=\"https://colab.research.google.com/github/Shobana-1206/AIML-/blob/main/Untitled10.ipynb\" target=\"_parent\"><img src=\"https://colab.research.google.com/assets/colab-badge.svg\" alt=\"Open In Colab\"/></a>"
      ]
    },
    {
      "cell_type": "code",
      "execution_count": null,
      "metadata": {
        "colab": {
          "base_uri": "https://localhost:8080/"
        },
        "id": "lN4__yQ2mVLR",
        "outputId": "6298b90c-d64a-4918-f775-1447f19d84f7"
      },
      "outputs": [
        {
          "output_type": "stream",
          "name": "stdout",
          "text": [
            "Cloning into 'efficientnet-pytorch'...\n",
            "remote: Enumerating objects: 876, done.\u001b[K\n",
            "remote: Counting objects: 100% (304/304), done.\u001b[K\n",
            "remote: Compressing objects: 100% (181/181), done.\u001b[K\n",
            "remote: Total 876 (delta 168), reused 208 (delta 121), pack-reused 572 (from 1)\u001b[K\n",
            "Receiving objects: 100% (876/876), 293.73 KiB | 1.25 MiB/s, done.\n",
            "Resolving deltas: 100% (479/479), done.\n"
          ]
        }
      ],
      "source": [
        "!git clone https://github.com/narumiruna/efficientnet-pytorch.git"
      ]
    },
    {
      "cell_type": "code",
      "source": [
        "%cd efficientnet-pytorch"
      ],
      "metadata": {
        "colab": {
          "base_uri": "https://localhost:8080/"
        },
        "id": "YdpscEBOmn0m",
        "outputId": "01452bbb-fa89-41f5-a748-da0ee5fa51dd"
      },
      "execution_count": null,
      "outputs": [
        {
          "output_type": "stream",
          "name": "stdout",
          "text": [
            "/content/efficientnet-pytorch\n"
          ]
        }
      ]
    },
    {
      "cell_type": "code",
      "source": [
        "!pip install torch torchvision"
      ],
      "metadata": {
        "colab": {
          "base_uri": "https://localhost:8080/"
        },
        "id": "XkSahenSnB5e",
        "outputId": "e9424116-1b95-4776-c4a7-f009378d7f83"
      },
      "execution_count": null,
      "outputs": [
        {
          "output_type": "stream",
          "name": "stdout",
          "text": [
            "Requirement already satisfied: torch in /usr/local/lib/python3.10/dist-packages (2.4.0+cu121)\n",
            "Requirement already satisfied: torchvision in /usr/local/lib/python3.10/dist-packages (0.19.0+cu121)\n",
            "Requirement already satisfied: filelock in /usr/local/lib/python3.10/dist-packages (from torch) (3.16.0)\n",
            "Requirement already satisfied: typing-extensions>=4.8.0 in /usr/local/lib/python3.10/dist-packages (from torch) (4.12.2)\n",
            "Requirement already satisfied: sympy in /usr/local/lib/python3.10/dist-packages (from torch) (1.13.2)\n",
            "Requirement already satisfied: networkx in /usr/local/lib/python3.10/dist-packages (from torch) (3.3)\n",
            "Requirement already satisfied: jinja2 in /usr/local/lib/python3.10/dist-packages (from torch) (3.1.4)\n",
            "Requirement already satisfied: fsspec in /usr/local/lib/python3.10/dist-packages (from torch) (2024.6.1)\n",
            "Requirement already satisfied: numpy in /usr/local/lib/python3.10/dist-packages (from torchvision) (1.26.4)\n",
            "Requirement already satisfied: pillow!=8.3.*,>=5.3.0 in /usr/local/lib/python3.10/dist-packages (from torchvision) (9.4.0)\n",
            "Requirement already satisfied: MarkupSafe>=2.0 in /usr/local/lib/python3.10/dist-packages (from jinja2->torch) (2.1.5)\n",
            "Requirement already satisfied: mpmath<1.4,>=1.1.0 in /usr/local/lib/python3.10/dist-packages (from sympy->torch) (1.3.0)\n"
          ]
        }
      ]
    },
    {
      "cell_type": "code",
      "source": [
        "!pip install kaggle"
      ],
      "metadata": {
        "colab": {
          "base_uri": "https://localhost:8080/"
        },
        "id": "NX_xsuEPnFZy",
        "outputId": "52023271-07bb-4693-83f6-22128b7d69a9"
      },
      "execution_count": null,
      "outputs": [
        {
          "output_type": "stream",
          "name": "stdout",
          "text": [
            "Requirement already satisfied: kaggle in /usr/local/lib/python3.10/dist-packages (1.6.17)\n",
            "Requirement already satisfied: six>=1.10 in /usr/local/lib/python3.10/dist-packages (from kaggle) (1.16.0)\n",
            "Requirement already satisfied: certifi>=2023.7.22 in /usr/local/lib/python3.10/dist-packages (from kaggle) (2024.8.30)\n",
            "Requirement already satisfied: python-dateutil in /usr/local/lib/python3.10/dist-packages (from kaggle) (2.8.2)\n",
            "Requirement already satisfied: requests in /usr/local/lib/python3.10/dist-packages (from kaggle) (2.32.3)\n",
            "Requirement already satisfied: tqdm in /usr/local/lib/python3.10/dist-packages (from kaggle) (4.66.5)\n",
            "Requirement already satisfied: python-slugify in /usr/local/lib/python3.10/dist-packages (from kaggle) (8.0.4)\n",
            "Requirement already satisfied: urllib3 in /usr/local/lib/python3.10/dist-packages (from kaggle) (2.0.7)\n",
            "Requirement already satisfied: bleach in /usr/local/lib/python3.10/dist-packages (from kaggle) (6.1.0)\n",
            "Requirement already satisfied: webencodings in /usr/local/lib/python3.10/dist-packages (from bleach->kaggle) (0.5.1)\n",
            "Requirement already satisfied: text-unidecode>=1.3 in /usr/local/lib/python3.10/dist-packages (from python-slugify->kaggle) (1.3)\n",
            "Requirement already satisfied: charset-normalizer<4,>=2 in /usr/local/lib/python3.10/dist-packages (from requests->kaggle) (3.3.2)\n",
            "Requirement already satisfied: idna<4,>=2.5 in /usr/local/lib/python3.10/dist-packages (from requests->kaggle) (3.8)\n"
          ]
        }
      ]
    },
    {
      "cell_type": "code",
      "source": [
        "\n",
        "\n"
      ],
      "metadata": {
        "colab": {
          "base_uri": "https://localhost:8080/",
          "height": 1000
        },
        "id": "tX14nr3FnMLI",
        "outputId": "6e1d443f-506b-4fc6-a0af-4f9e90a2f6fe"
      },
      "execution_count": null,
      "outputs": [
        {
          "output_type": "display_data",
          "data": {
            "text/plain": [
              "<IPython.core.display.HTML object>"
            ],
            "text/html": [
              "\n",
              "     <input type=\"file\" id=\"files-7fc8ca7f-0fe9-4ed8-a3c6-bc21b6c2520f\" name=\"files[]\" multiple disabled\n",
              "        style=\"border:none\" />\n",
              "     <output id=\"result-7fc8ca7f-0fe9-4ed8-a3c6-bc21b6c2520f\">\n",
              "      Upload widget is only available when the cell has been executed in the\n",
              "      current browser session. Please rerun this cell to enable.\n",
              "      </output>\n",
              "      <script>// Copyright 2017 Google LLC\n",
              "//\n",
              "// Licensed under the Apache License, Version 2.0 (the \"License\");\n",
              "// you may not use this file except in compliance with the License.\n",
              "// You may obtain a copy of the License at\n",
              "//\n",
              "//      http://www.apache.org/licenses/LICENSE-2.0\n",
              "//\n",
              "// Unless required by applicable law or agreed to in writing, software\n",
              "// distributed under the License is distributed on an \"AS IS\" BASIS,\n",
              "// WITHOUT WARRANTIES OR CONDITIONS OF ANY KIND, either express or implied.\n",
              "// See the License for the specific language governing permissions and\n",
              "// limitations under the License.\n",
              "\n",
              "/**\n",
              " * @fileoverview Helpers for google.colab Python module.\n",
              " */\n",
              "(function(scope) {\n",
              "function span(text, styleAttributes = {}) {\n",
              "  const element = document.createElement('span');\n",
              "  element.textContent = text;\n",
              "  for (const key of Object.keys(styleAttributes)) {\n",
              "    element.style[key] = styleAttributes[key];\n",
              "  }\n",
              "  return element;\n",
              "}\n",
              "\n",
              "// Max number of bytes which will be uploaded at a time.\n",
              "const MAX_PAYLOAD_SIZE = 100 * 1024;\n",
              "\n",
              "function _uploadFiles(inputId, outputId) {\n",
              "  const steps = uploadFilesStep(inputId, outputId);\n",
              "  const outputElement = document.getElementById(outputId);\n",
              "  // Cache steps on the outputElement to make it available for the next call\n",
              "  // to uploadFilesContinue from Python.\n",
              "  outputElement.steps = steps;\n",
              "\n",
              "  return _uploadFilesContinue(outputId);\n",
              "}\n",
              "\n",
              "// This is roughly an async generator (not supported in the browser yet),\n",
              "// where there are multiple asynchronous steps and the Python side is going\n",
              "// to poll for completion of each step.\n",
              "// This uses a Promise to block the python side on completion of each step,\n",
              "// then passes the result of the previous step as the input to the next step.\n",
              "function _uploadFilesContinue(outputId) {\n",
              "  const outputElement = document.getElementById(outputId);\n",
              "  const steps = outputElement.steps;\n",
              "\n",
              "  const next = steps.next(outputElement.lastPromiseValue);\n",
              "  return Promise.resolve(next.value.promise).then((value) => {\n",
              "    // Cache the last promise value to make it available to the next\n",
              "    // step of the generator.\n",
              "    outputElement.lastPromiseValue = value;\n",
              "    return next.value.response;\n",
              "  });\n",
              "}\n",
              "\n",
              "/**\n",
              " * Generator function which is called between each async step of the upload\n",
              " * process.\n",
              " * @param {string} inputId Element ID of the input file picker element.\n",
              " * @param {string} outputId Element ID of the output display.\n",
              " * @return {!Iterable<!Object>} Iterable of next steps.\n",
              " */\n",
              "function* uploadFilesStep(inputId, outputId) {\n",
              "  const inputElement = document.getElementById(inputId);\n",
              "  inputElement.disabled = false;\n",
              "\n",
              "  const outputElement = document.getElementById(outputId);\n",
              "  outputElement.innerHTML = '';\n",
              "\n",
              "  const pickedPromise = new Promise((resolve) => {\n",
              "    inputElement.addEventListener('change', (e) => {\n",
              "      resolve(e.target.files);\n",
              "    });\n",
              "  });\n",
              "\n",
              "  const cancel = document.createElement('button');\n",
              "  inputElement.parentElement.appendChild(cancel);\n",
              "  cancel.textContent = 'Cancel upload';\n",
              "  const cancelPromise = new Promise((resolve) => {\n",
              "    cancel.onclick = () => {\n",
              "      resolve(null);\n",
              "    };\n",
              "  });\n",
              "\n",
              "  // Wait for the user to pick the files.\n",
              "  const files = yield {\n",
              "    promise: Promise.race([pickedPromise, cancelPromise]),\n",
              "    response: {\n",
              "      action: 'starting',\n",
              "    }\n",
              "  };\n",
              "\n",
              "  cancel.remove();\n",
              "\n",
              "  // Disable the input element since further picks are not allowed.\n",
              "  inputElement.disabled = true;\n",
              "\n",
              "  if (!files) {\n",
              "    return {\n",
              "      response: {\n",
              "        action: 'complete',\n",
              "      }\n",
              "    };\n",
              "  }\n",
              "\n",
              "  for (const file of files) {\n",
              "    const li = document.createElement('li');\n",
              "    li.append(span(file.name, {fontWeight: 'bold'}));\n",
              "    li.append(span(\n",
              "        `(${file.type || 'n/a'}) - ${file.size} bytes, ` +\n",
              "        `last modified: ${\n",
              "            file.lastModifiedDate ? file.lastModifiedDate.toLocaleDateString() :\n",
              "                                    'n/a'} - `));\n",
              "    const percent = span('0% done');\n",
              "    li.appendChild(percent);\n",
              "\n",
              "    outputElement.appendChild(li);\n",
              "\n",
              "    const fileDataPromise = new Promise((resolve) => {\n",
              "      const reader = new FileReader();\n",
              "      reader.onload = (e) => {\n",
              "        resolve(e.target.result);\n",
              "      };\n",
              "      reader.readAsArrayBuffer(file);\n",
              "    });\n",
              "    // Wait for the data to be ready.\n",
              "    let fileData = yield {\n",
              "      promise: fileDataPromise,\n",
              "      response: {\n",
              "        action: 'continue',\n",
              "      }\n",
              "    };\n",
              "\n",
              "    // Use a chunked sending to avoid message size limits. See b/62115660.\n",
              "    let position = 0;\n",
              "    do {\n",
              "      const length = Math.min(fileData.byteLength - position, MAX_PAYLOAD_SIZE);\n",
              "      const chunk = new Uint8Array(fileData, position, length);\n",
              "      position += length;\n",
              "\n",
              "      const base64 = btoa(String.fromCharCode.apply(null, chunk));\n",
              "      yield {\n",
              "        response: {\n",
              "          action: 'append',\n",
              "          file: file.name,\n",
              "          data: base64,\n",
              "        },\n",
              "      };\n",
              "\n",
              "      let percentDone = fileData.byteLength === 0 ?\n",
              "          100 :\n",
              "          Math.round((position / fileData.byteLength) * 100);\n",
              "      percent.textContent = `${percentDone}% done`;\n",
              "\n",
              "    } while (position < fileData.byteLength);\n",
              "  }\n",
              "\n",
              "  // All done.\n",
              "  yield {\n",
              "    response: {\n",
              "      action: 'complete',\n",
              "    }\n",
              "  };\n",
              "}\n",
              "\n",
              "scope.google = scope.google || {};\n",
              "scope.google.colab = scope.google.colab || {};\n",
              "scope.google.colab._files = {\n",
              "  _uploadFiles,\n",
              "  _uploadFilesContinue,\n",
              "};\n",
              "})(self);\n",
              "</script> "
            ]
          },
          "metadata": {}
        },
        {
          "output_type": "stream",
          "name": "stdout",
          "text": [
            "Saving CrimesOnWomenData.csv to CrimesOnWomenData.csv\n"
          ]
        },
        {
          "output_type": "execute_result",
          "data": {
            "text/plain": [
              "{'CrimesOnWomenData.csv': b',State,Year,Rape,K&A,DD,AoW,AoM,DV,WT\\r\\n0,ANDHRA PRADESH,2001,871,765,420,3544,2271,5791,7\\r\\n1,ARUNACHAL PRADESH,2001,33,55,0,78,3,11,0\\r\\n2,ASSAM,2001,817,1070,59,850,4,1248,0\\r\\n3,BIHAR,2001,888,518,859,562,21,1558,83\\r\\n4,CHHATTISGARH,2001,959,171,70,1763,161,840,0\\r\\n5,GOA,2001,12,6,2,17,7,11,0\\r\\n6,GUJARAT,2001,286,857,67,756,111,3667,0\\r\\n7,HARYANA,2001,398,297,285,478,401,1513,0\\r\\n8,HIMACHAL PRADESH,2001,124,105,10,310,14,317,0\\r\\n9,JAMMU & KASHMIR,2001,169,504,13,622,288,50,0\\r\\n10,JHARKHAND,2001,567,279,217,297,5,484,2\\r\\n11,KARNATAKA,2001,293,271,220,1665,81,1755,0\\r\\n12,KERALA,2001,562,97,27,1942,81,2561,0\\r\\n13,MADHYA PRADESH,2001,2851,668,609,7063,751,2562,0\\r\\n14,MAHARASHTRA,2001,1302,611,308,2823,1120,6090,1\\r\\n15,MANIPUR,2001,20,62,0,21,0,5,0\\r\\n16,MEGHALAYA,2001,26,11,0,25,0,4,0\\r\\n17,MIZORAM,2001,52,1,0,52,0,16,3\\r\\n18,NAGALAND,2001,17,6,0,6,0,0,0\\r\\n19,ODISHA,2001,790,434,294,1655,458,1266,0\\r\\n20,PUNJAB,2001,298,324,159,372,47,1128,0\\r\\n21,RAJASTHAN,2001,1049,2165,376,2878,56,5532,1\\r\\n22,SIKKIM,2001,8,2,0,0,14,0,0\\r\\n23,TAMIL NADU,2001,423,607,191,1773,1012,815,14\\r\\n24,TRIPURA,2001,102,35,16,58,0,227,0\\r\\n25,UTTAR PRADESH,2001,1958,2879,2211,2870,2575,7365,0\\r\\n26,UTTARAKHAND,2001,74,126,56,103,84,301,0\\r\\n27,WEST BENGAL,2001,709,695,265,954,48,3859,3\\r\\n28,A & N ISLANDS,2001,3,2,0,19,1,9,0\\r\\n29,CHANDIGARH,2001,18,50,3,24,15,36,0\\r\\n30,D & N HAVELI,2001,6,2,0,7,0,4,0\\r\\n31,DAMAN & DIU,2001,0,3,0,0,0,4,0\\r\\n32,LAKSHADWEEP,2001,0,0,0,0,0,0,0\\r\\n33,PUDUCHERRY,2001,9,3,1,35,27,3,0\\r\\n34,ANDHRA PRADESH,2002,1002,854,449,3799,2024,7018,0\\r\\n35,ARUNACHAL PRADESH,2002,38,38,0,68,2,13,0\\r\\n36,ASSAM,2002,970,1276,70,984,7,1694,0\\r\\n37,BIHAR,2002,1040,744,927,621,6,1577,38\\r\\n38,CHHATTISGARH,2002,992,154,85,1483,147,653,0\\r\\n39,GOA,2002,12,5,2,18,6,8,0\\r\\n40,GUJARAT,2002,267,807,62,750,104,3321,0\\r\\n41,HARYANA,2002,361,290,256,454,1424,1565,0\\r\\n42,HIMACHAL PRADESH,2002,137,116,6,326,12,234,0\\r\\n43,JAMMU & KASHMIR,2002,192,596,18,785,368,54,0\\r\\n44,JHARKHAND,2002,797,178,275,411,3,588,36\\r\\n45,KARNATAKA,2002,292,300,233,1648,100,1826,0\\r\\n46,KERALA,2002,499,91,17,2123,102,2836,0\\r\\n47,MADHYA PRADESH,2002,2891,639,674,7118,783,3117,0\\r\\n48,MAHARASHTRA,2002,1352,650,303,2686,769,5353,0\\r\\n49,MANIPUR,2002,14,82,0,58,0,10,0\\r\\n50,MEGHALAYA,2002,38,10,0,23,0,0,0\\r\\n51,MIZORAM,2002,76,2,0,73,0,3,0\\r\\n52,NAGALAND,2002,17,4,0,1,0,0,0\\r\\n53,ODISHA,2002,691,432,248,1605,188,1167,0\\r\\n54,PUNJAB,2002,299,354,166,341,145,944,0\\r\\n55,RAJASTHAN,2002,1051,2019,399,2730,44,5691,0\\r\\n56,SIKKIM,2002,6,2,0,17,0,3,0\\r\\n57,TAMIL NADU,2002,534,714,243,1877,1718,1052,0\\r\\n58,TRIPURA,2002,108,48,16,128,0,236,0\\r\\n59,UTTAR PRADESH,2002,1415,2298,1893,2145,1887,5679,0\\r\\n60,UTTARAKHAND,2002,89,155,66,145,97,316,1\\r\\n61,WEST BENGAL,2002,759,694,273,964,34,4069,1\\r\\n62,A & N ISLANDS,2002,2,1,0,17,3,4,0\\r\\n63,CHANDIGARH,2002,18,47,1,36,28,56,0\\r\\n64,D & N HAVELI,2002,4,5,0,3,0,3,0\\r\\n65,DAMAN & DIU,2002,0,2,0,0,0,3,0\\r\\n66,LAKSHADWEEP,2002,1,0,0,1,0,0,0\\r\\n67,PUDUCHERRY,2002,6,6,5,59,26,9,0\\r\\n68,ANDHRA PRADESH,2003,946,931,466,4128,2286,8167,5\\r\\n69,ARUNACHAL PRADESH,2003,31,51,0,43,0,14,0\\r\\n70,ASSAM,2003,1095,1351,60,878,6,1808,0\\r\\n71,BIHAR,2003,985,674,909,688,11,1880,37\\r\\n72,CHHATTISGARH,2003,898,149,79,1481,105,601,0\\r\\n73,GOA,2003,31,13,2,19,7,24,0\\r\\n74,GUJARAT,2003,236,859,54,722,92,3684,0\\r\\n75,HARYANA,2003,353,271,222,344,1302,1618,0\\r\\n76,HIMACHAL PRADESH,2003,126,96,6,250,18,221,0\\r\\n77,JAMMU & KASHMIR,2003,211,615,10,875,376,71,0\\r\\n78,JHARKHAND,2003,712,262,262,424,2,559,0\\r\\n79,KARNATAKA,2003,321,244,194,1585,84,1704,0\\r\\n80,KERALA,2003,394,102,33,1947,68,2930,0\\r\\n81,MADHYA PRADESH,2003,2738,608,648,6848,705,2938,0\\r\\n82,MAHARASHTRA,2003,1268,626,368,2661,682,5452,0\\r\\n83,MANIPUR,2003,18,71,0,44,0,4,0\\r\\n84,MEGHALAYA,2003,40,10,0,13,1,4,0\\r\\n85,MIZORAM,2003,54,2,0,88,0,3,0\\r\\n86,NAGALAND,2003,14,3,0,4,2,0,1\\r\\n87,ODISHA,2003,725,373,279,1669,188,1289,0\\r\\n88,PUNJAB,2003,380,295,110,346,199,987,0\\r\\n89,RAJASTHAN,2003,1050,1750,389,2715,33,5733,1\\r\\n90,SIKKIM,2003,10,0,0,25,0,1,0\\r\\n91,TAMIL NADU,2003,557,632,220,2022,881,1555,1\\r\\n92,TRIPURA,2003,114,29,20,127,0,247,0\\r\\n93,UTTAR PRADESH,2003,911,1499,1322,1098,4970,2626,0\\r\\n94,UTTARAKHAND,2003,107,134,93,136,98,317,0\\r\\n95,WEST BENGAL,2003,1002,801,329,1186,71,4948,1\\r\\n96,A & N ISLANDS,2003,2,2,0,9,2,7,0\\r\\n97,CHANDIGARH,2003,18,28,1,11,4,93,0\\r\\n98,D & N HAVELI,2003,1,4,0,4,0,2,0\\r\\n99,DAMAN & DIU,2003,5,1,1,3,0,0,0\\r\\n100,LAKSHADWEEP,2003,2,0,0,1,0,1,0\\r\\n101,PUDUCHERRY,2003,2,13,1,56,27,4,0\\r\\n102,ANDHRA PRADESH,2004,1016,1030,512,3817,2310,8388,2\\r\\n103,ARUNACHAL PRADESH,2004,42,41,0,61,0,4,0\\r\\n104,ASSAM,2004,1171,1552,74,883,11,1945,0\\r\\n105,BIHAR,2004,1390,997,1029,704,13,2679,35\\r\\n106,CHHATTISGARH,2004,969,174,71,1661,131,741,0\\r\\n107,GOA,2004,37,10,2,23,15,17,0\\r\\n108,GUJARAT,2004,339,905,58,757,164,3955,0\\r\\n109,HARYANA,2004,386,292,251,403,850,2026,0\\r\\n110,HIMACHAL PRADESH,2004,153,99,8,284,16,252,0\\r\\n111,JAMMU & KASHMIR,2004,218,632,9,990,264,82,0\\r\\n112,JHARKHAND,2004,797,178,275,411,3,588,36\\r\\n113,KARNATAKA,2004,291,286,259,1435,57,1588,0\\r\\n114,KERALA,2004,480,142,31,2260,133,3222,0\\r\\n115,MADHYA PRADESH,2004,2875,584,751,6690,804,3436,0\\r\\n116,MAHARASHTRA,2004,1388,787,314,2831,862,5646,0\\r\\n117,MANIPUR,2004,31,71,0,30,0,2,0\\r\\n118,MEGHALAYA,2004,54,18,2,34,0,5,0\\r\\n119,MIZORAM,2004,20,0,0,66,0,0,0\\r\\n120,NAGALAND,2004,18,4,0,3,1,0,0\\r\\n121,ODISHA,2004,770,423,319,1811,170,1192,0\\r\\n122,PUNJAB,2004,390,311,113,261,38,801,0\\r\\n123,RAJASTHAN,2004,1038,1881,379,2825,41,6781,1\\r\\n124,SIKKIM,2004,3,4,0,40,0,1,0\\r\\n125,TAMIL NADU,2004,618,692,225,1861,1081,1437,0\\r\\n126,TRIPURA,2004,160,54,20,134,0,302,0\\r\\n127,UTTAR PRADESH,2004,1397,2324,1708,1900,2682,4950,3\\r\\n128,UTTARAKHAND,2004,115,127,82,143,110,405,0\\r\\n129,WEST BENGAL,2004,1475,1018,396,1566,64,6334,12\\r\\n130,A & N ISLANDS,2004,10,3,0,6,3,5,0\\r\\n131,CHANDIGARH,2004,19,43,6,20,18,73,0\\r\\n132,D & N HAVELI,2004,7,7,0,5,0,3,0\\r\\n133,DAMAN & DIU,2004,1,0,0,1,0,4,0\\r\\n134,LAKSHADWEEP,2004,0,0,0,0,0,1,0\\r\\n135,PUDUCHERRY,2004,4,8,6,50,30,2,0\\r\\n136,ANDHRA PRADESH,2005,935,995,443,3595,2508,8696,3\\r\\n137,ARUNACHAL PRADESH,2005,35,39,0,67,0,9,0\\r\\n138,ASSAM,2005,1238,1456,99,899,19,2206,3\\r\\n139,BIHAR,2005,1147,929,1014,451,13,1574,74\\r\\n140,CHHATTISGARH,2005,990,184,100,1450,132,732,0\\r\\n141,GOA,2005,20,12,2,30,8,11,0\\r\\n142,GUJARAT,2005,324,916,48,802,104,4090,0\\r\\n143,HARYANA,2005,461,344,212,380,597,2075,0\\r\\n144,HIMACHAL PRADESH,2005,141,102,2,286,29,228,0\\r\\n145,JAMMU & KASHMIR,2005,201,658,5,830,371,76,0\\r\\n146,JHARKHAND,2005,753,283,257,293,36,590,4\\r\\n147,KARNATAKA,2005,343,312,261,1585,71,1883,0\\r\\n148,KERALA,2005,478,129,21,2339,175,3283,0\\r\\n149,MADHYA PRADESH,2005,2921,604,739,6426,792,2989,3\\r\\n150,MAHARASHTRA,2005,1545,851,341,3228,919,6233,0\\r\\n151,MANIPUR,2005,25,69,0,25,0,20,0\\r\\n152,MEGHALAYA,2005,63,19,1,44,0,3,0\\r\\n153,MIZORAM,2005,37,0,4,49,4,0,0\\r\\n154,NAGALAND,2005,17,9,0,7,0,0,0\\r\\n155,ODISHA,2005,799,547,334,2238,184,1671,0\\r\\n156,PUNJAB,2005,398,329,99,308,43,729,0\\r\\n157,RAJASTHAN,2005,993,1549,361,2503,28,5997,0\\r\\n158,SIKKIM,2005,18,2,0,38,0,4,0\\r\\n159,TAMIL NADU,2005,571,783,215,1764,665,1650,0\\r\\n160,TRIPURA,2005,162,43,34,161,1,439,0\\r\\n161,UTTAR PRADESH,2005,1217,2256,1564,1835,2881,4505,0\\r\\n162,UTTARAKHAND,2005,133,125,63,100,89,272,0\\r\\n163,WEST BENGAL,2005,1686,1039,446,1572,54,6936,61\\r\\n164,A & N ISLANDS,2005,4,1,0,11,1,5,0\\r\\n165,CHANDIGARH,2005,33,45,3,31,9,75,0\\r\\n166,D & N HAVELI,2005,5,9,0,5,0,5,0\\r\\n167,DAMAN & DIU,2005,2,2,1,1,0,3,0\\r\\n168,LAKSHADWEEP,2005,0,0,0,0,0,0,0\\r\\n169,PUDUCHERRY,2005,6,3,4,60,26,6,0\\r\\n170,ANDHRA PRADESH,2006,1049,1329,519,4534,2411,9164,0\\r\\n171,ARUNACHAL PRADESH,2006,37,51,1,63,2,14,0\\r\\n172,ASSAM,2006,1244,1544,105,1290,10,2548,0\\r\\n173,BIHAR,2006,1232,1084,1188,530,53,1689,42\\r\\n174,CHHATTISGARH,2006,995,178,103,1598,143,717,1\\r\\n175,GOA,2006,21,10,0,18,7,14,0\\r\\n176,GUJARAT,2006,354,945,50,736,138,4977,0\\r\\n177,HARYANA,2006,608,431,255,486,491,2254,0\\r\\n178,HIMACHAL PRADESH,2006,113,109,3,275,31,259,0\\r\\n179,JAMMU & KASHMIR,2006,250,723,10,960,347,135,0\\r\\n180,JHARKHAND,2006,799,410,281,414,44,668,5\\r\\n181,KARNATAKA,2006,400,328,244,1683,38,2129,0\\r\\n182,KERALA,2006,601,202,25,2543,222,3708,0\\r\\n183,MADHYA PRADESH,2006,2900,617,764,6243,762,2989,0\\r\\n184,MAHARASHTRA,2006,1500,921,387,3479,984,6738,1\\r\\n185,MANIPUR,2006,40,79,0,42,0,10,0\\r\\n186,MEGHALAYA,2006,74,25,6,57,0,13,0\\r\\n187,MIZORAM,2006,72,1,0,51,0,1,0\\r\\n188,NAGALAND,2006,23,3,0,3,2,3,0\\r\\n189,ODISHA,2006,985,577,457,2415,247,694,12\\r\\n190,PUNJAB,2006,442,418,130,314,60,801,2\\r\\n191,RAJASTHAN,2006,1085,1553,394,2582,31,7038,3\\r\\n192,SIKKIM,2006,20,7,0,14,0,6,0\\r\\n193,TAMIL NADU,2006,457,718,187,1179,852,1248,0\\r\\n194,TRIPURA,2006,189,62,35,207,0,471,0\\r\\n195,UTTAR PRADESH,2006,1314,2551,1798,2096,2714,5204,0\\r\\n196,UTTARAKHAND,2006,147,183,80,153,113,358,0\\r\\n197,WEST BENGAL,2006,1731,1199,445,1837,63,7414,1\\r\\n198,A & N ISLANDS,2006,6,5,0,14,4,7,0\\r\\n199,CHANDIGARH,2006,19,57,10,20,13,102,0\\r\\n200,D & N HAVELI,2006,6,14,1,5,1,5,0\\r\\n201,DAMAN & DIU,2006,3,1,0,2,0,2,0\\r\\n202,LAKSHADWEEP,2006,0,0,0,0,0,1,0\\r\\n203,PUDUCHERRY,2006,9,13,3,56,39,19,0\\r\\n204,ANDHRA PRADESH,2007,1070,1564,613,4406,3316,11335,0\\r\\n205,ARUNACHAL PRADESH,2007,48,44,0,72,1,20,0\\r\\n206,ASSAM,2007,1437,1471,100,789,10,3000,0\\r\\n207,BIHAR,2007,1555,1260,1172,853,12,1635,56\\r\\n208,CHHATTISGARH,2007,982,181,100,1549,111,824,0\\r\\n209,GOA,2007,20,7,2,20,7,14,0\\r\\n210,GUJARAT,2007,316,1089,42,822,120,5827,0\\r\\n211,HARYANA,2007,488,554,269,417,409,2412,0\\r\\n212,HIMACHAL PRADESH,2007,159,150,8,322,33,342,0\\r\\n213,JAMMU & KASHMIR,2007,288,707,9,986,353,176,0\\r\\n214,JHARKHAND,2007,855,534,303,342,15,801,0\\r\\n215,KARNATAKA,2007,436,390,251,1828,28,2507,0\\r\\n216,KERALA,2007,512,177,27,2624,262,3999,0\\r\\n217,MADHYA PRADESH,2007,3010,701,742,6772,780,3294,0\\r\\n218,MAHARASHTRA,2007,1451,967,436,3306,1039,7356,0\\r\\n219,MANIPUR,2007,20,83,0,70,0,15,0\\r\\n220,MEGHALAYA,2007,82,22,2,45,1,19,0\\r\\n221,MIZORAM,2007,83,0,0,66,0,2,0\\r\\n222,NAGALAND,2007,13,6,0,8,1,0,0\\r\\n223,ODISHA,2007,939,660,461,2775,241,728,0\\r\\n224,PUNJAB,2007,519,545,133,427,48,971,0\\r\\n225,RAJASTHAN,2007,1238,1694,439,2477,28,8170,0\\r\\n226,SIKKIM,2007,24,9,0,13,0,7,0\\r\\n227,TAMIL NADU,2007,523,1097,208,1540,875,1976,0\\r\\n228,TRIPURA,2007,157,81,36,244,4,545,0\\r\\n229,UTTAR PRADESH,2007,1648,3363,2076,2522,2882,7650,0\\r\\n230,UTTARAKHAND,2007,117,227,70,146,63,463,0\\r\\n231,WEST BENGAL,2007,2106,1590,451,2281,99,9900,5\\r\\n232,A & N ISLANDS,2007,3,9,1,21,2,18,0\\r\\n233,CHANDIGARH,2007,22,46,1,32,11,112,0\\r\\n234,D & N HAVELI,2007,7,6,0,0,0,3,0\\r\\n235,DAMAN & DIU,2007,1,1,1,0,0,3,0\\r\\n236,LAKSHADWEEP,2007,1,0,0,2,0,2,0\\r\\n237,PUDUCHERRY,2007,9,14,2,89,32,17,0\\r\\n238,ANDHRA PRADESH,2008,1257,1396,556,4730,3551,10306,0\\r\\n239,ARUNACHAL PRADESH,2008,42,47,0,72,1,13,0\\r\\n240,ASSAM,2008,1438,1789,103,1272,2,3478,0\\r\\n241,BIHAR,2008,1302,1789,1210,999,21,1992,22\\r\\n242,CHHATTISGARH,2008,978,216,106,1621,125,897,0\\r\\n243,GOA,2008,30,28,2,32,12,12,0\\r\\n244,GUJARAT,2008,374,1119,27,828,122,6094,0\\r\\n245,HARYANA,2008,631,644,302,435,605,2435,0\\r\\n246,HIMACHAL PRADESH,2008,157,137,3,295,41,343,0\\r\\n247,JAMMU & KASHMIR,2008,219,656,21,935,296,162,0\\r\\n248,JHARKHAND,2008,791,499,266,271,23,851,39\\r\\n249,KARNATAKA,2008,446,405,259,1954,44,2638,1\\r\\n250,KERALA,2008,568,166,31,2745,258,4138,0\\r\\n251,MADHYA PRADESH,2008,2937,736,805,6445,758,3185,0\\r\\n252,MAHARASHTRA,2008,1558,998,390,3619,1091,7829,0\\r\\n253,MANIPUR,2008,38,87,1,57,0,28,0\\r\\n254,MEGHALAYA,2008,88,25,2,54,4,32,0\\r\\n255,MIZORAM,2008,77,1,0,78,0,5,0\\r\\n256,NAGALAND,2008,19,7,0,15,1,4,0\\r\\n257,ODISHA,2008,1113,762,401,2782,282,1618,0\\r\\n258,PUNJAB,2008,517,514,128,388,49,984,0\\r\\n259,RAJASTHAN,2008,1355,1863,439,2520,19,8113,0\\r\\n260,SIKKIM,2008,20,4,0,19,0,5,0\\r\\n261,TAMIL NADU,2008,573,1160,207,1705,974,1648,0\\r\\n262,TRIPURA,2008,204,110,16,346,4,735,0\\r\\n263,UTTAR PRADESH,2008,1871,4439,2237,2955,3374,8312,0\\r\\n264,UTTARAKHAND,2008,87,222,73,120,306,340,0\\r\\n265,WEST BENGAL,2008,2263,1907,451,2396,94,13663,5\\r\\n266,A & N ISLANDS,2008,12,13,2,24,3,26,0\\r\\n267,CHANDIGARH,2008,20,42,3,19,2,49,0\\r\\n268,D & N HAVELI,2008,6,11,0,4,0,4,0\\r\\n269,DAMAN & DIU,2008,0,1,0,2,1,5,0\\r\\n270,LAKSHADWEEP,2008,2,1,0,0,0,1,0\\r\\n271,PUDUCHERRY,2008,8,9,2,65,21,12,0\\r\\n272,ANDHRA PRADESH,2009,1188,1526,546,5147,3520,11297,0\\r\\n273,ARUNACHAL PRADESH,2009,59,28,0,58,6,13,0\\r\\n274,ASSAM,2009,1631,2092,170,1342,10,4398,1\\r\\n275,BIHAR,2009,929,1986,1295,726,12,2532,31\\r\\n276,CHHATTISGARH,2009,976,229,128,1598,152,893,0\\r\\n277,GOA,2009,47,22,3,37,10,21,0\\r\\n278,GUJARAT,2009,433,1162,24,727,114,5506,0\\r\\n279,HARYANA,2009,603,659,281,451,605,2617,0\\r\\n280,HIMACHAL PRADESH,2009,183,122,1,318,37,284,0\\r\\n281,JAMMU & KASHMIR,2009,237,825,12,972,371,196,0\\r\\n282,JHARKHAND,2009,719,517,295,276,83,710,6\\r\\n283,KARNATAKA,2009,509,408,264,2186,64,3185,2\\r\\n284,KERALA,2009,568,173,20,2540,395,4007,0\\r\\n285,MADHYA PRADESH,2009,2998,841,858,6307,728,3983,1\\r\\n286,MAHARASHTRA,2009,1483,926,341,3196,1099,7681,0\\r\\n287,MANIPUR,2009,31,97,0,39,2,25,0\\r\\n288,MEGHALAYA,2009,112,26,0,72,1,24,1\\r\\n289,MIZORAM,2009,83,0,0,61,1,4,0\\r\\n290,NAGALAND,2009,22,10,0,11,0,0,0\\r\\n291,ODISHA,2009,1023,799,384,2697,210,2047,1\\r\\n292,PUNJAB,2009,511,513,126,319,33,1061,0\\r\\n293,RAJASTHAN,2009,1519,2310,436,2485,24,10371,0\\r\\n294,SIKKIM,2009,18,6,0,10,0,6,0\\r\\n295,TAMIL NADU,2009,596,1133,194,1242,501,1460,0\\r\\n296,TRIPURA,2009,190,92,29,384,5,815,0\\r\\n297,UTTAR PRADESH,2009,1759,5078,2232,2782,2524,8566,0\\r\\n298,UTTARAKHAND,2009,111,247,94,119,249,361,0\\r\\n299,WEST BENGAL,2009,2336,2187,506,1942,108,16112,5\\r\\n300,A & N ISLANDS,2009,18,14,1,30,7,21,0\\r\\n301,CHANDIGARH,2009,29,36,2,26,2,51,0\\r\\n302,D & N HAVELI,2009,4,9,0,2,1,3,0\\r\\n303,DAMAN & DIU,2009,1,0,0,4,1,3,0\\r\\n304,LAKSHADWEEP,2009,1,0,0,0,0,0,0\\r\\n305,PUDUCHERRY,2009,1,13,0,53,16,10,0\\r\\n306,ANDHRA PRADESH,2010,1362,1531,588,4634,4562,12080,0\\r\\n307,ARUNACHAL PRADESH,2010,47,46,0,84,1,12,0\\r\\n308,ASSAM,2010,1721,2767,175,1400,20,5410,0\\r\\n309,BIHAR,2010,795,2569,1257,534,16,2271,8\\r\\n310,CHHATTISGARH,2010,1012,279,115,1706,182,861,2\\r\\n311,GOA,2010,36,18,1,36,16,17,0\\r\\n312,GUJARAT,2010,408,1290,19,668,110,5600,0\\r\\n313,HARYANA,2010,720,714,284,476,580,2720,0\\r\\n314,HIMACHAL PRADESH,2010,160,162,2,350,78,275,0\\r\\n315,JAMMU & KASHMIR,2010,245,840,9,1038,262,211,0\\r\\n316,JHARKHAND,2010,773,696,276,245,16,650,8\\r\\n317,KARNATAKA,2010,586,586,248,2544,83,3441,0\\r\\n318,KERALA,2010,634,184,22,2936,537,4797,0\\r\\n319,MADHYA PRADESH,2010,3135,1030,892,6646,918,3756,5\\r\\n320,MAHARASHTRA,2010,1599,1124,393,3661,1180,7434,0\\r\\n321,MANIPUR,2010,34,107,0,31,0,18,0\\r\\n322,MEGHALAYA,2010,149,37,0,48,0,24,0\\r\\n323,MIZORAM,2010,92,0,0,75,0,3,0\\r\\n324,NAGALAND,2010,16,6,0,13,3,1,0\\r\\n325,ODISHA,2010,1025,912,388,2905,232,2067,5\\r\\n326,PUNJAB,2010,546,576,121,349,38,1163,0\\r\\n327,RAJASTHAN,2010,1571,2477,462,2339,23,11145,0\\r\\n328,SIKKIM,2010,18,6,1,11,0,3,0\\r\\n329,TAMIL NADU,2010,686,1464,165,1405,638,1570,0\\r\\n330,TRIPURA,2010,238,91,25,376,9,937,0\\r\\n331,UTTAR PRADESH,2010,1563,5468,2217,2793,11,7978,0\\r\\n332,UTTARAKHAND,2010,121,249,75,125,165,334,0\\r\\n333,WEST BENGAL,2010,2311,2764,507,2465,163,17796,8\\r\\n334,A & N ISLANDS,2010,24,8,0,31,10,9,0\\r\\n335,CHANDIGARH,2010,31,28,5,29,4,41,0\\r\\n336,D & N HAVELI,2010,3,10,0,11,2,3,0\\r\\n337,DAMAN & DIU,2010,1,2,0,2,0,3,0\\r\\n338,LAKSHADWEEP,2010,0,0,0,0,0,0,0\\r\\n339,PUDUCHERRY,2010,3,14,1,46,22,7,0\\r\\n340,Andhra Pradesh,2011,1442,1612,599,0,3658,13376,497\\r\\n341,Arunachal Pradesh,2011,42,60,0,0,0,18,0\\r\\n342,Assam,2011,1700,3192,121,0,8,5246,21\\r\\n343,Bihar,2011,934,3050,1413,0,11,2607,23\\r\\n344,Chhattisgarh,2011,1053,365,104,0,174,834,15\\r\\n345,Goa,2011,29,17,1,0,12,18,18\\r\\n346,Gujarat,2011,439,1442,30,0,93,6052,46\\r\\n347,Haryana,2011,733,733,255,0,490,2740,57\\r\\n348,Himachal Pradesh,2011,168,191,4,0,62,239,2\\r\\n349,Jammu & Kashmir,2011,277,1023,11,0,350,286,1\\r\\n350,Jharkhand,2011,784,660,282,0,7,659,15\\r\\n351,Karnataka,2011,636,715,267,0,81,3712,351\\r\\n352,Kerala,2011,1132,221,15,0,573,5377,197\\r\\n353,Madhya Pradesh,2011,3406,1088,811,0,762,3732,24\\r\\n354,Maharashtra,2011,1701,1252,339,0,1071,7136,390\\r\\n355,Manipur,2011,53,116,1,0,0,39,0\\r\\n356,Meghalaya,2011,130,37,1,0,1,21,2\\r\\n357,Mizoram,2011,77,0,0,0,1,9,8\\r\\n358,Nagaland,2011,23,3,0,0,0,1,2\\r\\n359,Odisha,2011,1112,1008,465,0,235,2320,23\\r\\n360,Punjab,2011,479,517,143,0,31,1136,50\\r\\n361,Rajasthan,2011,1800,2713,514,0,9,12218,81\\r\\n362,Sikkim,2011,16,10,0,0,0,4,1\\r\\n363,Tamil Nadu,2011,677,1743,152,0,464,1812,420\\r\\n364,Telangana,2011,0,0,0,0,0,0,0\\r\\n365,Tripura,2011,205,116,30,0,9,702,2\\r\\n366,Uttar Pradesh,2011,2042,7525,2322,0,3,7121,43\\r\\n367,Uttarakhand,2011,129,283,83,0,72,307,3\\r\\n368,West Bengal,2011,2363,3711,510,0,200,19772,96\\r\\n369,A & N Islands,2011,13,12,0,0,3,5,3\\r\\n370,Chandigarh,2011,27,46,2,0,12,46,1\\r\\n371,D&N Haveli,2011,4,8,0,0,0,3,1\\r\\n372,Daman & Diu,2011,1,2,0,0,0,2,6\\r\\n373,Delhi UT,2011,572,2085,142,0,162,1575,33\\r\\n374,Lakshadweep,2011,0,0,0,0,0,0,0\\r\\n375,Puducherry,2011,7,9,1,0,16,10,3\\r\\n376,Andhra Pradesh,2012,1341,1403,504,4816,3714,13389,472\\r\\n377,Arunachal Pradesh,2012,46,58,1,67,2,26,1\\r\\n378,Assam,2012,1716,3360,140,1840,5,6407,30\\r\\n379,Bihar,2012,927,3789,1275,118,37,3686,35\\r\\n380,Chhattisgarh,2012,1034,350,81,1601,162,980,5\\r\\n381,Goa,2012,55,16,0,49,16,24,40\\r\\n382,Gujarat,2012,473,1527,21,745,93,6658,44\\r\\n383,Haryana,2012,668,900,258,525,434,3137,69\\r\\n384,Himachal Pradesh,2012,183,152,2,250,68,251,6\\r\\n385,Jammu & Kashmir,2012,303,1041,8,1322,347,301,3\\r\\n386,Jharkhand,2012,812,786,302,284,10,1261,12\\r\\n387,Karnataka,2012,621,1070,218,2978,100,3684,335\\r\\n388,Kerala,2012,1019,214,32,3735,498,5216,210\\r\\n389,Madhya Pradesh,2012,3425,1127,743,6655,774,3988,13\\r\\n390,Maharashtra,2012,1839,1140,329,3935,1294,7415,366\\r\\n391,Manipur,2012,63,133,0,49,1,43,15\\r\\n392,Meghalaya,2012,164,24,1,43,0,16,7\\r\\n393,Mizoram,2012,103,3,0,85,0,8,0\\r\\n394,Nagaland,2012,21,10,0,16,0,0,4\\r\\n395,Odisha,2012,1458,1364,525,4187,304,2638,24\\r\\n396,Punjab,2012,680,689,118,340,31,1293,86\\r\\n397,Rajasthan,2012,2049,2697,478,2352,18,13312,99\\r\\n398,Sikkim,2012,34,10,1,19,0,4,0\\r\\n399,Tamil Nadu,2012,737,1693,110,1494,382,1965,500\\r\\n400,Telangana,2012,0,0,0,0,0,0,0\\r\\n401,Tripura,2012,229,114,37,314,7,858,0\\r\\n402,Uttar Pradesh,2012,1963,7910,2244,3247,8,7661,31\\r\\n403,Uttarakhand,2012,148,256,71,139,73,368,12\\r\\n404,West Bengal,2012,2046,4168,593,3345,556,19865,109\\r\\n405,A & N Islands,2012,12,7,2,10,4,5,2\\r\\n406,Chandigarh,2012,27,66,5,45,25,73,0\\r\\n407,D&N Haveli,2012,3,9,0,2,0,0,2\\r\\n408,Daman & Diu,2012,5,0,0,0,0,3,3\\r\\n409,Delhi UT,2012,706,2160,134,727,208,1985,24\\r\\n410,Lakshadweep,2012,0,0,0,1,0,1,0\\r\\n411,Puducherry,2012,13,16,0,9,2,6,4\\r\\n412,Andhra Pradesh,2013,1635,1595,492,6930,4702,15084,489\\r\\n413,Arunachal Pradesh,2013,75,86,0,93,3,29,2\\r\\n414,Assam,2013,1937,4222,170,2409,14,8636,18\\r\\n415,Bihar,2013,1128,4419,1182,331,52,4533,64\\r\\n416,Chhattisgarh,2013,1380,1881,109,2261,180,1181,8\\r\\n417,Goa,2013,86,70,0,162,54,40,28\\r\\n418,Gujarat,2013,732,2230,29,1243,77,7812,76\\r\\n419,Haryana,2013,971,1957,263,1560,643,3617,63\\r\\n420,Himachal Pradesh,2013,250,290,0,493,111,328,4\\r\\n421,Jammu & Kashmir,2013,378,949,7,1389,354,428,1\\r\\n422,Jharkhand,2013,1204,926,307,524,18,2084,11\\r\\n423,Karnataka,2013,1030,1359,277,3913,137,3276,340\\r\\n424,Kerala,2013,1221,185,21,4362,404,4820,180\\r\\n425,Madhya Pradesh,2013,4335,2873,776,8252,736,4988,22\\r\\n426,Maharashtra,2013,3063,1874,320,8132,2632,8542,289\\r\\n427,Manipur,2013,72,125,0,59,0,29,0\\r\\n428,Meghalaya,2013,183,33,2,98,0,23,4\\r\\n429,Mizoram,2013,89,2,0,81,0,5,0\\r\\n430,Nagaland,2013,31,11,1,18,1,4,1\\r\\n431,Odisha,2013,1832,2067,395,4618,426,2792,27\\r\\n432,Punjab,2013,888,987,126,1045,67,1741,137\\r\\n433,Rajasthan,2013,3285,4047,453,4829,25,15094,74\\r\\n434,Sikkim,2013,43,16,0,29,0,5,0\\r\\n435,Tamil Nadu,2013,923,1516,118,1271,313,2471,549\\r\\n436,Telangana,2013,0,0,0,0,0,0,0\\r\\n437,Tripura,2013,233,124,29,407,7,827,0\\r\\n438,Uttar Pradesh,2013,3050,9737,2335,7303,25,8781,37\\r\\n439,Uttarakhand,2013,228,633,43,295,72,435,13\\r\\n440,West Bengal,2013,1685,3830,481,4913,577,18116,104\\r\\n441,A & N Islands,2013,27,12,1,45,8,9,4\\r\\n442,Chandigarh,2013,45,174,1,143,26,92,6\\r\\n443,D&N Haveli,2013,5,11,0,1,1,1,2\\r\\n444,Daman & Diu,2013,8,6,0,2,0,2,6\\r\\n445,Delhi UT,2013,1636,3609,144,3515,916,3033,20\\r\\n446,Lakshadweep,2013,2,0,0,1,0,0,0\\r\\n447,Puducherry,2013,17,25,1,12,8,8,0\\r\\n448,Andhra Pradesh,2014,961,721,468,4547,1072,6362,204\\r\\n449,Arunachal Pradesh,2014,83,91,0,121,21,42,0\\r\\n450,Assam,2014,1980,3895,92,3099,458,9626,29\\r\\n451,Bihar,2014,1127,4735,2203,572,271,4672,31\\r\\n452,Chhattisgarh,2014,1436,1393,8,2122,649,964,2\\r\\n453,Goa,2014,95,86,0,202,50,35,9\\r\\n454,Gujarat,2014,841,2187,53,1352,405,5991,45\\r\\n455,Haryana,2014,1174,1922,13,1688,599,3478,43\\r\\n456,Himachal Pradesh,2014,283,227,2,538,159,325,5\\r\\n457,Jammu & Kashmir,2014,331,813,1,1421,242,467,1\\r\\n458,Jharkhand,2014,1050,885,1538,440,114,1462,11\\r\\n459,Karnataka,2014,1324,1457,1730,5263,253,3025,388\\r\\n460,Kerala,2014,1347,143,3,4367,980,4919,91\\r\\n461,Madhya Pradesh,2014,5076,5688,113,9609,3163,6451,15\\r\\n462,Maharashtra,2014,3438,2457,39,10001,4052,7696,202\\r\\n463,Manipur,2014,75,121,0,98,5,41,0\\r\\n464,Meghalaya,2014,118,38,1,105,0,42,3\\r\\n465,Mizoram,2014,120,3,0,97,53,8,0\\r\\n466,Nagaland,2014,30,13,0,16,5,3,1\\r\\n467,Odisha,2014,1978,2436,646,5543,802,3114,32\\r\\n468,Punjab,2014,981,1176,5,1113,344,1681,63\\r\\n469,Rajasthan,2014,3759,4421,12,5999,727,15905,78\\r\\n470,Sikkim,2014,47,12,0,34,14,5,0\\r\\n471,Tamil Nadu,2014,455,1502,292,1102,46,2103,471\\r\\n472,Telangana,2014,979,711,563,3188,620,6369,192\\r\\n473,Tripura,2014,239,102,1,492,82,702,0\\r\\n474,Uttar Pradesh,2014,3467,10626,2133,8605,4435,10471,37\\r\\n475,Uttarakhand,2014,270,275,104,343,22,301,19\\r\\n476,West Bengal,2014,1466,4976,1,5670,1045,23278,80\\r\\n477,A & N Islands,2014,32,17,0,41,18,14,1\\r\\n478,Chandigarh,2014,59,133,2,87,31,141,0\\r\\n479,D&N Haveli,2014,5,7,0,2,0,6,0\\r\\n480,Daman & Diu,2014,2,1,0,3,3,1,8\\r\\n481,Delhi UT,2014,2096,4034,13,4322,1186,3173,8\\r\\n482,Lakshadweep,2014,1,0,0,1,0,0,0\\r\\n483,Puducherry,2014,10,7,14,32,12,4,1\\r\\n484,Andhra Pradesh,2015,1027,684,174,4616,1070,6121,204\\r\\n485,Arunachal Pradesh,2015,71,128,0,101,15,66,2\\r\\n486,Assam,2015,1733,5039,216,4293,499,11225,47\\r\\n487,Bihar,2015,1041,5158,1154,198,78,3792,21\\r\\n488,Chhattisgarh,2015,1560,1354,89,1868,507,620,4\\r\\n489,Goa,2015,86,70,0,150,58,19,3\\r\\n490,Gujarat,2015,503,1569,12,1164,536,4133,35\\r\\n491,Haryana,2015,1070,2336,243,1886,688,3525,44\\r\\n492,Himachal Pradesh,2015,244,239,2,434,99,226,6\\r\\n493,Jammu & Kashmir,2015,296,1071,6,1343,244,400,0\\r\\n494,Jharkhand,2015,1053,930,267,844,531,1654,3\\r\\n495,Karnataka,2015,589,1611,254,5112,535,2732,420\\r\\n496,Kerala,2015,1256,192,8,3987,1145,3668,135\\r\\n497,Madhya Pradesh,2015,4391,4547,664,8049,2559,5281,25\\r\\n498,Maharashtra,2015,4144,5096,268,11713,4751,7640,381\\r\\n499,Manipur,2015,46,94,0,84,2,39,0\\r\\n500,Meghalaya,2015,93,58,1,95,22,44,0\\r\\n501,Mizoram,2015,58,8,0,75,53,9,0\\r\\n502,Nagaland,2015,35,30,0,8,6,4,3\\r\\n503,Odisha,2015,2251,2587,356,6499,886,3605,35\\r\\n504,Punjab,2015,886,1253,85,1123,400,1583,69\\r\\n505,Rajasthan,2015,3644,4167,463,4813,649,14383,86\\r\\n506,Sikkim,2015,5,21,1,21,5,2,0\\r\\n507,Tamil Nadu,2015,421,1335,65,1163,197,1900,491\\r\\n508,Telangana,2015,1105,648,262,3608,620,7329,252\\r\\n509,Tripura,2015,213,120,28,352,28,501,2\\r\\n510,Uttar Pradesh,2015,3025,10135,2335,7885,5925,8660,33\\r\\n511,Uttarakhand,2015,283,336,54,318,51,407,18\\r\\n512,West Bengal,2015,1199,3938,498,5069,674,20163,101\\r\\n513,A & N Islands,2015,36,21,0,57,23,14,0\\r\\n514,Chandigarh,2015,72,165,5,76,22,126,0\\r\\n515,D&N Haveli,2015,8,9,1,5,0,2,0\\r\\n516,Daman & Diu,2015,5,13,0,7,3,3,0\\r\\n517,Delhi UT,2015,2199,4301,122,5367,1150,3521,3\\r\\n518,Lakshadweep,2015,0,0,0,6,0,2,0\\r\\n519,Puducherry,2015,3,14,1,33,10,4,1\\r\\n520,Andhra Pradesh,2016,994,626,193,4829,1305,6461,186\\r\\n521,Arunachal Pradesh,2016,92,85,1,109,4,50,0\\r\\n522,Assam,2016,1779,5339,157,3378,677,9321,65\\r\\n523,Bihar,2016,1008,5496,987,324,124,3794,50\\r\\n524,Chhattisgarh,2016,1626,1447,84,1770,244,622,17\\r\\n525,Goa,2016,61,69,2,143,41,23,3\\r\\n526,Gujarat,2016,982,2146,12,1224,473,3732,76\\r\\n527,Haryana,2016,1187,2697,260,1860,699,3313,59\\r\\n528,Himachal Pradesh,2016,252,201,3,410,114,214,7\\r\\n529,Jammu & Kashmir,2016,256,774,6,1235,253,342,1\\r\\n530,Jharkhand,2016,1109,693,278,667,373,1002,0\\r\\n531,Karnataka,2016,1655,1923,234,5260,703,2556,323\\r\\n532,Kerala,2016,1656,166,25,4029,1273,3455,113\\r\\n533,Madhya Pradesh,2016,4882,4904,629,8717,3128,6264,20\\r\\n534,Maharashtra,2016,4189,6170,248,11396,4057,7215,303\\r\\n535,Manipur,2016,55,95,0,65,15,29,0\\r\\n536,Meghalaya,2016,190,51,0,68,20,26,2\\r\\n537,Mizoram,2016,23,3,0,71,44,19,3\\r\\n538,Nagaland,2016,26,50,1,14,6,3,0\\r\\n539,Odisha,2016,1983,2291,397,8252,979,2781,38\\r\\n540,Punjab,2016,838,1208,80,1025,325,1568,64\\r\\n541,Rajasthan,2016,3656,4010,462,4839,483,13811,56\\r\\n542,Sikkim,2016,92,12,0,34,8,2,0\\r\\n543,Tamil Nadu,2016,319,1043,58,854,115,1256,432\\r\\n544,Telangana,2016,1278,987,254,3767,859,7202,240\\r\\n545,Tripura,2016,207,119,19,214,52,430,0\\r\\n546,Uttar Pradesh,2016,4816,12994,2473,11335,9422,11156,50\\r\\n547,Uttarakhand,2016,336,377,57,344,35,392,11\\r\\n548,West Bengal,2016,1110,4494,535,4177,663,19302,87\\r\\n549,A & N Islands,2016,30,21,0,46,15,7,0\\r\\n550,Chandigarh,2016,68,112,4,76,26,122,0\\r\\n551,D&N Haveli,2016,14,5,0,1,0,6,0\\r\\n552,Daman & Diu,2016,12,9,0,4,0,8,4\\r\\n553,Delhi UT,2016,2155,3891,162,4165,796,3877,4\\r\\n554,Lakshadweep,2016,5,0,0,1,0,2,0\\r\\n555,Puducherry,2016,6,11,0,43,13,15,0\\r\\n556,Andhra Pradesh,2017,988,712,152,5129,1998,7156,121\\r\\n557,Arunachal Pradesh,2017,59,74,0,97,5,56,2\\r\\n558,Assam,2017,1772,5554,171,3569,108,9782,40\\r\\n559,Bihar,2017,605,6182,1081,197,1,3776,24\\r\\n560,Chhattisgarh,2017,1908,1457,74,1899,144,582,16\\r\\n561,Goa,2017,76,61,1,134,31,21,1\\r\\n562,Gujarat,2017,477,1259,9,1058,17,3223,28\\r\\n563,Haryana,2017,1099,2949,245,2031,179,3326,57\\r\\n564,Himachal Pradesh,2017,249,242,3,397,52,191,8\\r\\n565,Jammu & Kashmir,2017,296,931,8,1417,41,377,0\\r\\n566,Jharkhand,2017,914,1033,248,748,104,998,4\\r\\n567,Karnataka,2017,546,967,206,5763,212,2332,236\\r\\n568,Kerala,2017,2003,184,12,4413,421,2856,21\\r\\n569,Madhya Pradesh,2017,5562,5200,632,9252,277,6099,27\\r\\n570,Maharashtra,2017,1933,6248,233,9392,919,6584,248\\r\\n571,Manipur,2017,40,70,0,66,8,19,0\\r\\n572,Meghalaya,2017,119,54,1,88,21,20,0\\r\\n573,Mizoram,2017,25,0,0,64,2,20,0\\r\\n574,Nagaland,2017,10,7,0,12,0,3,3\\r\\n575,Odisha,2017,2070,2773,326,9132,490,2525,21\\r\\n576,Punjab,2017,530,1099,68,933,22,1199,7\\r\\n577,Rajasthan,2017,3305,3838,457,4883,24,11508,86\\r\\n578,Sikkim,2017,17,27,0,21,7,5,0\\r\\n579,Tamil Nadu,2017,283,859,48,744,9,984,403\\r\\n580,Telangana,2017,552,934,251,4409,1160,7838,79\\r\\n581,Tripura,2017,95,90,33,225,9,348,0\\r\\n582,Uttar Pradesh,2017,4246,14993,2524,12607,91,12653,25\\r\\n583,Uttarakhand,2017,374,371,60,435,4,394,6\\r\\n584,West Bengal,2017,1084,4232,499,3832,448,16800,67\\r\\n585,A & N Islands,2017,13,3,1,38,11,4,0\\r\\n586,Chandigarh,2017,65,138,1,100,12,121,0\\r\\n587,D&N Haveli,2017,1,0,0,3,0,4,0\\r\\n588,Daman & Diu,2017,7,0,0,6,1,5,0\\r\\n589,Delhi UT,2017,1229,3783,120,2874,619,2735,6\\r\\n590,Lakshadweep,2017,0,0,0,0,0,2,0\\r\\n591,Puducherry,2017,7,9,2,33,4,5,0\\r\\n592,Andhra Pradesh,2018,971,697,140,4445,1802,6831,152\\r\\n593,Arunachal Pradesh,2018,67,87,0,103,12,60,0\\r\\n594,Assam,2018,1648,6401,173,4180,171,11136,37\\r\\n595,Bihar,2018,651,7951,1107,262,30,2539,49\\r\\n596,Chhattisgarh,2018,2091,1842,79,1854,184,503,15\\r\\n597,Goa,2018,61,78,0,125,26,9,7\\r\\n598,Gujarat,2018,553,1024,9,1208,12,2923,34\\r\\n599,Haryana,2018,1296,3419,216,2671,192,4154,43\\r\\n600,Himachal Pradesh,2018,344,341,4,513,78,183,10\\r\\n601,Jammu & Kashmir,2018,320,1061,8,1597,25,325,1\\r\\n602,Jharkhand,2018,1090,1018,252,1378,37,1032,9\\r\\n603,Karnataka,2018,492,1240,200,5204,138,2053,179\\r\\n604,Kerala,2018,1945,173,17,4544,461,2046,4\\r\\n605,Madhya Pradesh,2018,5433,6126,547,8790,270,4159,40\\r\\n606,Maharashtra,2018,2142,6825,200,10835,1074,6862,200\\r\\n607,Manipur,2018,52,85,0,56,8,14,0\\r\\n608,Meghalaya,2018,87,58,1,95,16,18,2\\r\\n609,Mizoram,2018,50,1,0,67,1,6,0\\r\\n610,Nagaland,2018,10,35,0,10,5,3,1\\r\\n611,Odisha,2018,918,2611,372,9973,506,1984,10\\r\\n612,Punjab,2018,831,1266,67,956,19,1470,6\\r\\n613,Rajasthan,2018,4335,4247,404,5249,34,12250,62\\r\\n614,Sikkim,2018,16,7,1,23,5,1,0\\r\\n615,Tamil Nadu,2018,331,896,55,814,14,789,386\\r\\n616,Telangana,2018,606,1121,186,4567,878,6286,81\\r\\n617,Tripura,2018,97,139,18,165,6,303,2\\r\\n618,Uttar Pradesh,2018,3946,15381,2444,12555,17,14233,27\\r\\n619,Uttarakhand,2018,561,502,63,548,8,622,0\\r\\n620,West Bengal,2018,1069,4249,444,3399,391,16951,97\\r\\n621,A & N Islands,2018,30,2,0,35,4,4,0\\r\\n622,Chandigarh,2018,86,139,6,100,3,93,0\\r\\n623,D&N Haveli,2018,7,0,0,6,2,1,0\\r\\n624,Daman & Diu,2018,3,0,0,5,1,4,0\\r\\n625,Delhi UT,2018,1215,3715,153,2705,552,3416,1\\r\\n626,Lakshadweep,2018,2,0,0,0,1,1,0\\r\\n627,Puducherry,2018,0,14,0,60,9,8,4\\r\\n628,Andhra Pradesh,2019,1086,589,112,4444,1892,7851,88\\r\\n629,Arunachal Pradesh,2019,63,68,1,80,6,54,0\\r\\n630,Assam,2019,1773,6989,156,4619,385,11943,12\\r\\n631,Bihar,2019,730,9025,1120,312,11,2397,40\\r\\n632,Chhattisgarh,2019,1036,2033,76,1316,232,732,12\\r\\n633,Goa,2019,72,52,1,119,37,9,1\\r\\n634,Gujarat,2019,528,922,9,1048,16,3619,24\\r\\n635,Haryana,2019,1480,2803,248,2581,173,4867,28\\r\\n636,Himachal Pradesh,2019,359,337,4,498,72,228,10\\r\\n637,Jammu & Kashmir,2019,223,893,8,1440,15,347,0\\r\\n638,Jharkhand,2019,1416,1008,299,1646,7,1426,4\\r\\n639,Karnataka,2019,505,1056,194,4937,107,2472,214\\r\\n640,Kerala,2019,2023,227,8,4507,435,2970,10\\r\\n641,Madhya Pradesh,2019,2485,6091,550,5585,174,5486,21\\r\\n642,Maharashtra,2019,2299,6906,196,10472,1074,8430,152\\r\\n643,Manipur,2019,36,84,0,59,7,15,0\\r\\n644,Meghalaya,2019,102,71,3,96,18,23,3\\r\\n645,Mizoram,2019,42,2,0,35,0,5,0\\r\\n646,Nagaland,2019,8,13,0,8,1,0,0\\r\\n647,Odisha,2019,1382,3934,342,11308,536,2739,19\\r\\n648,Punjab,2019,1002,1534,69,944,35,1595,9\\r\\n649,Rajasthan,2019,5997,5907,452,8802,69,18432,40\\r\\n650,Sikkim,2019,11,0,0,21,2,1,0\\r\\n651,Tamil Nadu,2019,362,699,28,803,7,781,349\\r\\n652,Telangana,2019,873,1322,163,4190,695,8541,22\\r\\n653,Tripura,2019,88,138,38,153,5,451,0\\r\\n654,Uttar Pradesh,2019,3065,11649,2410,11988,42,18304,22\\r\\n655,Uttarakhand,2019,526,375,57,475,10,644,3\\r\\n656,West Bengal,2019,1069,4249,444,3399,391,16951,97\\r\\n657,A & N Islands,2019,13,0,0,25,3,1,0\\r\\n658,Chandigarh,2019,112,129,6,66,15,177,0\\r\\n659,D&N Haveli,2019,0,1,3,3,0,3,0\\r\\n660,Daman & Diu,2019,4,2,2,5,3,4,1\\r\\n661,Delhi UT,2019,1253,3672,116,2355,456,3792,4\\r\\n662,Lakshadweep,2019,0,0,0,5,8,0,0\\r\\n663,Puducherry,2019,10,0,0,23,0,8,0\\r\\n664,Andhra Pradesh,2020,1095,534,111,4886,2342,6546,48\\r\\n665,Arunachal Pradesh,2020,60,45,0,73,3,69,0\\r\\n666,Assam,2020,1657,5364,148,4642,90,11408,18\\r\\n667,Bihar,2020,806,6671,1046,584,6,1935,30\\r\\n668,Chhattisgarh,2020,1210,1341,71,1461,279,641,3\\r\\n669,Goa,2020,60,31,0,67,35,8,0\\r\\n670,Gujarat,2020,486,597,6,846,17,3345,47\\r\\n671,Haryana,2020,1373,2423,251,2339,183,4119,28\\r\\n672,Himachal Pradesh,2020,331,281,1,538,88,259,0\\r\\n673,Jammu & Kashmir,2020,1321,993,275,1358,6,857,2\\r\\n674,Jharkhand,2020,504,923,176,4751,70,2055,159\\r\\n675,Karnataka,2020,637,151,6,3890,442,2707,5\\r\\n676,Kerala,2020,2339,4782,608,5378,200,5540,14\\r\\n677,Madhya Pradesh,2020,2061,5254,197,9965,969,6729,85\\r\\n678,Maharashtra,2020,32,49,1,61,8,7,0\\r\\n679,Manipur,2020,67,29,1,86,16,17,0\\r\\n680,Meghalaya,2020,33,1,0,26,3,7,0\\r\\n681,Mizoram,2020,4,6,1,7,2,2,0\\r\\n682,Nagaland,2020,1211,3775,320,12605,615,3659,19\\r\\n683,Odisha,2020,502,1241,63,731,28,1271,11\\r\\n684,Punjab,2020,5310,4739,479,8661,85,13765,67\\r\\n685,Rajasthan,2020,12,11,0,18,0,1,0\\r\\n686,Sikkim,2020,389,633,40,892,31,689,231\\r\\n687,Tamil Nadu,2020,764,1314,158,4907,565,7453,13\\r\\n688,Telangana,2020,79,110,23,115,3,356,0\\r\\n689,Tripura,2020,2769,9109,2274,9864,28,14454,25\\r\\n690,Uttar Pradesh,2020,487,349,65,474,43,668,8\\r\\n691,Uttarakhand,2020,1128,7740,522,2488,446,19962,52\\r\\n692,West Bengal,2020,2,1,0,15,3,2,0\\r\\n693,A & N Islands,2020,60,90,1,42,4,96,0\\r\\n694,Chandigarh,2020,4,0,1,6,3,4,0\\r\\n695,D&N Haveli,2020,997,2938,110,1840,416,2557,3\\r\\n696,Daman & Diu,2020,243,775,9,1744,35,349,0\\r\\n697,Delhi UT,2020,2,0,0,4,0,3,0\\r\\n698,Lakshadweep,2020,3,0,0,3,1,0,0\\r\\n699,Puducherry,2020,8,0,2,25,0,9,0\\r\\n700,Andhra Pradesh,2021,1188,613,108,5108,2370,7092,70\\r\\n701,Arunachal Pradesh,2021,83,50,0,74,10,112,0\\r\\n702,Assam,2021,1733,5739,198,4499,184,12950,22\\r\\n703,Bihar,2021,786,8661,1000,387,1,2069,32\\r\\n704,Chhattisgarh,2021,1093,1158,65,1248,238,963,3\\r\\n705,Goa,2021,72,39,0,74,20,1,1\\r\\n706,Gujarat,2021,589,881,11,660,7,2271,38\\r\\n707,Haryana,2021,1716,2958,275,2882,290,5755,28\\r\\n708,Himachal Pradesh,2021,358,344,2,487,94,221,6\\r\\n709,Jammu & Kashmir,2021,1425,1159,281,1335,6,931,3\\r\\n710,Jharkhand,2021,555,906,158,5105,71,2336,190\\r\\n711,Karnataka,2021,771,179,9,4059,504,4997,5\\r\\n712,Kerala,2021,2947,6106,522,5760,250,7929,15\\r\\n713,Madhya Pradesh,2021,2496,7559,172,10568,1038,10095,95\\r\\n714,Maharashtra,2021,26,44,2,92,16,18,0\\r\\n715,Manipur,2021,75,42,0,92,24,21,3\\r\\n716,Meghalaya,2021,26,0,0,31,0,11,0\\r\\n717,Mizoram,2021,4,5,0,11,1,2,0\\r\\n718,Nagaland,2021,1456,5175,293,14853,838,4889,31\\r\\n719,Odisha,2021,464,1616,69,678,39,1714,12\\r\\n720,Punjab,2021,6337,5964,452,9079,73,16949,40\\r\\n721,Rajasthan,2021,8,1,0,17,0,3,0\\r\\n722,Sikkim,2021,422,638,27,1077,32,875,381\\r\\n723,Tamil Nadu,2021,823,1934,175,4365,775,9468,12\\r\\n724,Telangana,2021,61,115,22,94,1,355,0\\r\\n725,Tripura,2021,2845,10574,2222,9393,27,18375,12\\r\\n726,Uttar Pradesh,2021,534,402,72,655,13,519,17\\r\\n727,Uttarakhand,2021,1123,7376,454,2485,424,19952,50\\r\\n728,West Bengal,2021,15,0,1,32,4,4,0\\r\\n729,A & N Islands,2021,74,120,4,37,6,95,0\\r\\n730,Chandigarh,2021,3,23,0,7,0,6,0\\r\\n731,D&N Haveli,2021,1250,4083,141,2068,417,4731,4\\r\\n732,Daman & Diu,2021,315,904,16,1851,10,501,1\\r\\n733,Delhi UT,2021,2,1,0,5,1,9,0\\r\\n734,Lakshadweep,2021,0,0,0,1,1,3,0\\r\\n735,Puducherry,2021,2,0,2,31,3,12,0\\r\\n'}"
            ]
          },
          "metadata": {},
          "execution_count": 5
        }
      ]
    },
    {
      "cell_type": "code",
      "source": [
        "!mkdir -p ~/.kaggle\n",
        "!mv kaggle.json ~/.kaggle/\n",
        "!chmod 600 ~/.kaggle/kaggle.json"
      ],
      "metadata": {
        "colab": {
          "base_uri": "https://localhost:8080/"
        },
        "id": "uZyjNxOVnUXT",
        "outputId": "887c58bf-e280-4122-b55f-aff3880bf8ce"
      },
      "execution_count": null,
      "outputs": [
        {
          "output_type": "stream",
          "name": "stdout",
          "text": [
            "mv: cannot stat 'kaggle.json': No such file or directory\n",
            "chmod: cannot access '/root/.kaggle/kaggle.json': No such file or directory\n"
          ]
        }
      ]
    },
    {
      "cell_type": "code",
      "source": [
        "!kaggle datasets download -d <dataset-owner>/<dataset-name>"
      ],
      "metadata": {
        "colab": {
          "base_uri": "https://localhost:8080/"
        },
        "id": "keBfPaJ7omrO",
        "outputId": "de407237-9d85-4d10-8b81-220d7f6d52bf"
      },
      "execution_count": null,
      "outputs": [
        {
          "output_type": "stream",
          "name": "stdout",
          "text": [
            "/bin/bash: -c: line 1: syntax error near unexpected token `newline'\n",
            "/bin/bash: -c: line 1: `kaggle datasets download -d <dataset-owner>/<dataset-name>'\n"
          ]
        }
      ]
    },
    {
      "cell_type": "code",
      "source": [
        "!kaggle datasets download -d your-username/your-dataset"
      ],
      "metadata": {
        "colab": {
          "base_uri": "https://localhost:8080/"
        },
        "id": "4Vf9NkIgo0tB",
        "outputId": "c4161d05-4c9d-442d-b4a0-3d6b2a19a783"
      },
      "execution_count": null,
      "outputs": [
        {
          "output_type": "stream",
          "name": "stdout",
          "text": [
            "403 - Forbidden - Permission 'datasets.get' was denied\n"
          ]
        }
      ]
    },
    {
      "cell_type": "code",
      "source": [],
      "metadata": {
        "id": "b5N-yLdwpA6H"
      },
      "execution_count": null,
      "outputs": []
    }
  ]
}